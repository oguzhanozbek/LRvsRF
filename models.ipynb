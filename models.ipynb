{
 "cells": [
  {
   "cell_type": "markdown",
   "id": "2a082a1b",
   "metadata": {},
   "source": [
    "**PROJECT | GROUP 5**\n",
    "\n",
    "**Oguzhan Ozbek | Raghav Dheer**\n",
    "\n",
    "**Sheridan ID #991656424 | Sheridan ID<???????>**\n",
    "\n",
    "**PROG39051 - Machine Learning Techniques**\n",
    "\n",
    "**Professor El Sayed Mahmoud**\n",
    "\n",
    "**2025-04-17**"
   ]
  },
  {
   "cell_type": "code",
   "execution_count": null,
   "id": "4ec16dfb",
   "metadata": {},
   "outputs": [],
   "source": [
    "#IMPORTING PYTHON LIBRARIES AND UNDERSTANDING DATA\n",
    "import pandas as pd\n",
    "import seaborn as sns\n",
    "import matplotlib.pyplot as plt\n",
    "from datetime import datetime\n",
    "\n",
    "df = pd.read_csv(\"Motorvehicleinsurancedata.csv\", delimiter=';')\n",
    "df.head()"
   ]
  },
  {
   "cell_type": "code",
   "execution_count": null,
   "id": "fa2f9aaa",
   "metadata": {},
   "outputs": [],
   "source": [
    "#DATA CLEANING\n",
    "print(f'Existince of NaN values: {df.isna().any().any()}')\n",
    "print(df.isna().sum())\n",
    "\n",
    "df = df.drop('ID', axis=1)\n",
    "df = df.drop('Date_lapse', axis=1)\n",
    "df = df.drop('Date_last_renewal', axis=1)\n",
    "df = df.drop('Date_next_renewal', axis=1)\n",
    "df_clean = df.dropna()\n",
    "\n",
    "print('\\nCleaning has been completed\\n')\n",
    "print(f'Existince of NaN values: {df_clean.isna().any().any()}')"
   ]
  },
  {
   "cell_type": "code",
   "execution_count": null,
   "id": "ca8101ee",
   "metadata": {},
   "outputs": [],
   "source": [
    "#FEATURE EXTRACTION\n",
    "df_clean['Date_birth'] = pd.to_datetime(df_clean['Date_birth'], format='%d/%m/%Y', errors='coerce')\n",
    "today = pd.to_datetime(\"today\")\n",
    "df_clean['Age'] = (today - df_clean['Date_birth']).dt.days // 365\n",
    "\n",
    "df_clean['Date_start_contract'] = pd.to_datetime(df_clean['Date_start_contract'], format='%d/%m/%Y', errors='coerce')\n",
    "today = pd.to_datetime(\"today\")\n",
    "df_clean['Length_contract'] = (today - df_clean['Date_start_contract']).dt.days // 365\n",
    "\n",
    "df_clean['Date_driving_licence'] = pd.to_datetime(df_clean['Date_driving_licence'], format='%d/%m/%Y', errors='coerce')\n",
    "today = pd.to_datetime(\"today\")\n",
    "df_clean['Length_licence'] = (today - df_clean['Date_driving_licence']).dt.days // 365\n",
    "\n",
    "df_clean = df_clean.drop('Date_birth', axis=1)\n",
    "df_clean = df_clean.drop('Date_start_contract', axis=1)\n",
    "df_clean = df_clean.drop('Date_driving_licence', axis=1)\n",
    "\n",
    "df_clean.info()"
   ]
  }
 ],
 "metadata": {
  "kernelspec": {
   "display_name": "Python 3",
   "language": "python",
   "name": "python3"
  },
  "language_info": {
   "codemirror_mode": {
    "name": "ipython",
    "version": 3
   },
   "file_extension": ".py",
   "mimetype": "text/x-python",
   "name": "python",
   "nbconvert_exporter": "python",
   "pygments_lexer": "ipython3",
   "version": "3.11.0"
  }
 },
 "nbformat": 4,
 "nbformat_minor": 5
}
